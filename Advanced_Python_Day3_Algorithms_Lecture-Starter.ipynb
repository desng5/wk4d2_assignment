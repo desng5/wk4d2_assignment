{
 "cells": [
  {
   "attachments": {},
   "cell_type": "markdown",
   "metadata": {},
   "source": [
    "# Classic Algorithms"
   ]
  },
  {
   "attachments": {},
   "cell_type": "markdown",
   "metadata": {},
   "source": [
    "## Tasks Today:\n",
    "\n",
    "1) <b>Intro to Algorithms</b> <br>\n",
    " &nbsp;&nbsp;&nbsp;&nbsp; a) What are algorithms <br>\n",
    " &nbsp;&nbsp;&nbsp;&nbsp; b) Quick Intro to Big-O Notation <br>\n",
    "2) <b>In-Place Algorithms</b> <br>\n",
    " &nbsp;&nbsp;&nbsp;&nbsp; a) Syntax <br>\n",
    " &nbsp;&nbsp;&nbsp;&nbsp; a) Out of Place Algorithm <br>\n",
    " &nbsp;&nbsp;&nbsp;&nbsp; b) In-Class Exercise #1 <br>\n",
    "3) <b>Two Pointers</b> <br>\n",
    "4) <b>Sorting Algorithms</b> <br>\n",
    "5) <b>Merge Sort</b> <br>\n",
    " &nbsp;&nbsp;&nbsp;&nbsp; a) Video on Algorithms <br>\n",
    " &nbsp;&nbsp;&nbsp;&nbsp; b) How it Works <br>\n",
    "6) <b>Exercises</b> <br>\n",
    " &nbsp;&nbsp;&nbsp;&nbsp; a) Exercise #1 - Reverse a List in Place Using an In-Place Algorithm <br>\n",
    " &nbsp;&nbsp;&nbsp;&nbsp; b) Exercise #2 - Find Distinct Words <br>\n",
    " &nbsp;&nbsp;&nbsp;&nbsp; c) Exercise #3 - Write a program to implement a Linear Search Algorithm. <br>"
   ]
  },
  {
   "attachments": {},
   "cell_type": "markdown",
   "metadata": {},
   "source": [
    "## Intro to Algorithms"
   ]
  },
  {
   "attachments": {},
   "cell_type": "markdown",
   "metadata": {},
   "source": [
    "#### What is an algorithm"
   ]
  },
  {
   "attachments": {},
   "cell_type": "markdown",
   "metadata": {},
   "source": [
    "- An algorithm is a set of instructions for solving a problem \n",
    "- Algorithms are used to solve all types of problems such as sorting data and searching for information\n",
    "- Being able to write efficient algorithms is an important part of being a computer programmer"
   ]
  },
  {
   "attachments": {},
   "cell_type": "markdown",
   "metadata": {},
   "source": [
    "#### Quick Intro to Big O Notation"
   ]
  },
  {
   "attachments": {},
   "cell_type": "markdown",
   "metadata": {},
   "source": [
    "Time and space complexity is the measure of how much time a given action(function) will take to solve a problem. In the same fashion, we determine how much a given data structure will need in terms of memory allocation. A problem can have multiple solutions and finding the optimal solution for the problem needs to be analyzed in time and space.\n",
    "<br>\n",
    "See more <a href=\"https://zippy-lan-200.notion.site/Intro-to-Time-Complexity-ae4a9c7dbefb4b9f9351ade7a2b2fa72\">here</a>"
   ]
  },
  {
   "attachments": {},
   "cell_type": "markdown",
   "metadata": {},
   "source": [
    "## In-Place Algorithms"
   ]
  },
  {
   "attachments": {},
   "cell_type": "markdown",
   "metadata": {},
   "source": [
    "#### Syntax"
   ]
  },
  {
   "cell_type": "code",
   "execution_count": 1,
   "metadata": {},
   "outputs": [],
   "source": [
    "my_list = [1, 2, 3, 4, 5, 6]\n"
   ]
  },
  {
   "cell_type": "code",
   "execution_count": 2,
   "metadata": {},
   "outputs": [
    {
     "data": {
      "text/plain": [
       "[6, 2, 3, 4, 5, 1]"
      ]
     },
     "execution_count": 2,
     "metadata": {},
     "output_type": "execute_result"
    }
   ],
   "source": [
    "def swap(a_list, index1, index2):\n",
    "    temp = a_list[index1]\n",
    "    a_list[index1] = a_list[index2]\n",
    "    a_list[index2] = temp\n",
    "    return a_list\n",
    "\n",
    "\n",
    "swap(my_list, 0, 5)"
   ]
  },
  {
   "cell_type": "code",
   "execution_count": 3,
   "metadata": {},
   "outputs": [
    {
     "data": {
      "text/plain": [
       "[5, 20, 15, 10, 25, 30]"
      ]
     },
     "execution_count": 3,
     "metadata": {},
     "output_type": "execute_result"
    }
   ],
   "source": [
    "swap([5, 10, 15, 20, 25, 30], 1, 3)"
   ]
  },
  {
   "cell_type": "code",
   "execution_count": 4,
   "metadata": {},
   "outputs": [
    {
     "name": "stdout",
     "output_type": "stream",
     "text": [
      "[6, 2, 3, 4, 5, 1]\n"
     ]
    }
   ],
   "source": [
    "print(my_list)"
   ]
  },
  {
   "cell_type": "code",
   "execution_count": 12,
   "metadata": {},
   "outputs": [],
   "source": [
    "# a_list[a], a_list[b] = a_list[b], a_list[a]\n",
    "\n",
    "my_list = [10, 20, 30, 40, 50]\n",
    "\n",
    "def swap(a_list, index1, index2):\n",
    "    a_list[index1], a_list[index2] = a_list[index2], a_list[index1]\n",
    "    return a_list\n",
    "\n",
    "swap(my_list, 1, 3)"
   ]
  },
  {
   "cell_type": "code",
   "execution_count": 13,
   "metadata": {},
   "outputs": [
    {
     "name": "stdout",
     "output_type": "stream",
     "text": [
      "[10, 40, 30, 20, 50]\n"
     ]
    }
   ],
   "source": [
    "print(my_list)"
   ]
  },
  {
   "attachments": {},
   "cell_type": "markdown",
   "metadata": {},
   "source": [
    "#### Out of Place Algorithm"
   ]
  },
  {
   "cell_type": "code",
   "execution_count": 7,
   "metadata": {
    "scrolled": true
   },
   "outputs": [],
   "source": [
    "def out_of_place_swap(a_list, index1, index2):\n",
    "    new_list = a_list[:] # Make a copy of the list\n",
    "    new_list[index1] = a_list[index2]\n",
    "    new_list[index2] = a_list[index1]\n",
    "    return new_list"
   ]
  },
  {
   "cell_type": "code",
   "execution_count": 8,
   "metadata": {},
   "outputs": [
    {
     "name": "stdout",
     "output_type": "stream",
     "text": [
      "Before: ['a', 'b', 'c', 'd', 'e', 'f', 'g']\n",
      "After: ['a', 'b', 'c', 'd', 'e', 'f', 'g']\n",
      "New List A: ['a', 'e', 'c', 'd', 'b', 'f', 'g']\n"
     ]
    }
   ],
   "source": [
    "list_a = ['a', 'b', 'c', 'd', 'e', 'f', 'g']\n",
    "\n",
    "print(f\"Before: {list_a}\")\n",
    "new_list_a = out_of_place_swap(list_a, 1, 4)\n",
    "print(f\"After: {list_a}\")\n",
    "print(f\"New List A: {new_list_a}\")"
   ]
  },
  {
   "cell_type": "code",
   "execution_count": 9,
   "metadata": {
    "scrolled": true
   },
   "outputs": [
    {
     "name": "stdout",
     "output_type": "stream",
     "text": [
      "Before: ['a', 'b', 'c', 'd', 'e', 'f', 'g']\n",
      "After: ['a', 'e', 'c', 'd', 'b', 'f', 'g']\n",
      "New List A: ['a', 'e', 'c', 'd', 'b', 'f', 'g']\n"
     ]
    }
   ],
   "source": [
    "list_a = ['a', 'b', 'c', 'd', 'e', 'f', 'g']\n",
    "\n",
    "print(f\"Before: {list_a}\")\n",
    "new_list_a = swap(list_a, 1, 4)\n",
    "print(f\"After: {list_a}\")\n",
    "print(f\"New List A: {new_list_a}\")"
   ]
  },
  {
   "cell_type": "code",
   "execution_count": 10,
   "metadata": {},
   "outputs": [
    {
     "name": "stdout",
     "output_type": "stream",
     "text": [
      "Before: [32, 54, 12, 45, 78, 23, 25]\n",
      "After: [32, 54, 12, 45, 78, 23, 25]\n",
      "[12, 23, 25, 32, 45, 54, 78]\n"
     ]
    }
   ],
   "source": [
    "unsorted_list = [32, 54, 12, 45, 78, 23, 25]\n",
    "\n",
    "print(f\"Before: {unsorted_list}\")\n",
    "sorted_list = sorted(unsorted_list) # sorted is out of place\n",
    "print(f\"After: {unsorted_list}\")\n",
    "print(sorted_list)"
   ]
  },
  {
   "cell_type": "code",
   "execution_count": 11,
   "metadata": {},
   "outputs": [
    {
     "name": "stdout",
     "output_type": "stream",
     "text": [
      "Before: [32, 54, 12, 45, 78, 23, 25]\n",
      "After: [12, 23, 25, 32, 45, 54, 78]\n",
      "None\n"
     ]
    }
   ],
   "source": [
    "unsorted_list = [32, 54, 12, 45, 78, 23, 25]\n",
    "\n",
    "print(f\"Before: {unsorted_list}\")\n",
    "sorted_list = unsorted_list.sort() # .sort() is in-place\n",
    "print(f\"After: {unsorted_list}\")\n",
    "print(sorted_list)"
   ]
  },
  {
   "attachments": {},
   "cell_type": "markdown",
   "metadata": {},
   "source": [
    "#### In-Class Exercise #1 <br>\n",
    "<p>Write a function that takes in four arguments (a_list, index1, index2, index3), and swaps those three positions in the list passed in.</p>"
   ]
  },
  {
   "cell_type": "code",
   "execution_count": 31,
   "metadata": {},
   "outputs": [
    {
     "name": "stdout",
     "output_type": "stream",
     "text": [
      "None\n",
      "[10, 40, 30, 60, 50, 20]\n"
     ]
    }
   ],
   "source": [
    "def swap(a_list, index1, index2, index3):\n",
    "    a_list[index1], a_list[index2], a_list[index3] = a_list[index2], a_list[index3], a_list[index1]\n",
    "    \n",
    "    \n",
    "my_list = [10, 20, 30, 40, 50, 60]\n",
    "\n",
    "print(swap(my_list, 1, 3, 5))\n",
    "\n",
    "print(my_list)"
   ]
  },
  {
   "attachments": {},
   "cell_type": "markdown",
   "metadata": {},
   "source": [
    "## Two Pointers"
   ]
  },
  {
   "attachments": {},
   "cell_type": "markdown",
   "metadata": {},
   "source": [
    "#### Syntax"
   ]
  },
  {
   "cell_type": "code",
   "execution_count": 32,
   "metadata": {},
   "outputs": [],
   "source": [
    "def reverse_in_place(a_list):\n",
    "    # Create two pointers to point to the index we are wanting to swap\n",
    "    left = 0 # first element in the list\n",
    "    right = len(a_list) - 1 # last element in the list\n",
    "    # Continue swapping left and right as long as left is less than right\n",
    "    while left < right:\n",
    "        a_list[left], a_list[right] = a_list[right], a_list[left]\n",
    "        # increase left pointer\n",
    "        left += 1\n",
    "        # decrease right pointer\n",
    "        right -= 1\n",
    "    # Once left is >= right, return the list\n",
    "    return a_list"
   ]
  },
  {
   "cell_type": "code",
   "execution_count": 33,
   "metadata": {},
   "outputs": [
    {
     "data": {
      "text/plain": [
       "['H', 'G', 'F', 'E', 'D', 'C', 'B', 'A']"
      ]
     },
     "execution_count": 33,
     "metadata": {},
     "output_type": "execute_result"
    }
   ],
   "source": [
    "abcs = ['A', 'B', 'C', 'D', 'E', 'F', 'G', 'H']\n",
    "\n",
    "reverse_in_place(abcs)"
   ]
  },
  {
   "cell_type": "code",
   "execution_count": 34,
   "metadata": {},
   "outputs": [
    {
     "name": "stdout",
     "output_type": "stream",
     "text": [
      "['H', 'G', 'F', 'E', 'D', 'C', 'B', 'A']\n"
     ]
    }
   ],
   "source": [
    "print(abcs)"
   ]
  },
  {
   "cell_type": "code",
   "execution_count": 42,
   "metadata": {},
   "outputs": [
    {
     "data": {
      "text/plain": [
       "['H', 'G', 'F', 'E', 'D', 'C', 'B', 'A']"
      ]
     },
     "execution_count": 42,
     "metadata": {},
     "output_type": "execute_result"
    }
   ],
   "source": [
    "def reverse_out_place(a_list):\n",
    "    output = [''] * len(a_list)\n",
    "    length_of_list = len(a_list)\n",
    "    for i in range(length_of_list):\n",
    "        output[i] = a_list[length_of_list - i - 1]\n",
    "    return output\n",
    "\n",
    "abcs_again = ['A', 'B', 'C', 'D', 'E', 'F', 'G', 'H']\n",
    "\n",
    "reverse_out_place(abcs_again)"
   ]
  },
  {
   "cell_type": "code",
   "execution_count": 36,
   "metadata": {},
   "outputs": [
    {
     "name": "stdout",
     "output_type": "stream",
     "text": [
      "['A', 'B', 'C', 'D', 'E', 'F', 'G', 'H']\n"
     ]
    }
   ],
   "source": [
    "print(abcs_again)"
   ]
  },
  {
   "attachments": {},
   "cell_type": "markdown",
   "metadata": {},
   "source": [
    "# Sorting Algorithms"
   ]
  },
  {
   "cell_type": "code",
   "execution_count": 61,
   "metadata": {},
   "outputs": [
    {
     "name": "stdout",
     "output_type": "stream",
     "text": [
      "[86, 87, 79, 9, 58, 40, 34, 74, 40, 81]\n"
     ]
    }
   ],
   "source": [
    "import random\n",
    "\n",
    "list_to_sort = [random.randint(1,100) for _ in range(10)]\n",
    "print(list_to_sort)"
   ]
  },
  {
   "attachments": {},
   "cell_type": "markdown",
   "metadata": {},
   "source": [
    "#### Bubble Sort\n",
    "\n",
    "Worst Case: O(n^2) Time - O(1) Space"
   ]
  },
  {
   "cell_type": "code",
   "execution_count": 62,
   "metadata": {},
   "outputs": [
    {
     "data": {
      "text/plain": [
       "[9, 34, 40, 40, 58, 74, 79, 81, 86, 87]"
      ]
     },
     "execution_count": 62,
     "metadata": {},
     "output_type": "execute_result"
    }
   ],
   "source": [
    "def bubble_sort(lst):\n",
    "    # When we first start, assume the list is unsorted\n",
    "    is_sorted = False\n",
    "    # While the list is unsorted, loop through and bubble the largest element to the top\n",
    "    num_sorted = 0\n",
    "    while not is_sorted:\n",
    "        # Begin the for loop with the assumption that the list is sorted\n",
    "        is_sorted = True\n",
    "        # Starting at the 0-index to the end of the list - 1\n",
    "        for idx in range(len(lst) - num_sorted - 1):\n",
    "            # if the list at index idx is greater than the value to its right\n",
    "            if lst[idx] > lst[idx+1]:\n",
    "                # Swap those two values\n",
    "                lst[idx], lst[idx+1] = lst[idx+1], lst[idx]\n",
    "                # if we have to swap, then we know our list is not sorted\n",
    "                is_sorted = False\n",
    "        num_sorted += 1\n",
    "    # Once the list is sorted, return the list\n",
    "    return lst\n",
    "\n",
    "\n",
    "bubble_sort(list_to_sort)"
   ]
  },
  {
   "attachments": {},
   "cell_type": "markdown",
   "metadata": {},
   "source": [
    "##### Insertion Sort\n",
    "\n",
    "Worst Case: O(n^2) time - O(1)space"
   ]
  },
  {
   "cell_type": "code",
   "execution_count": 63,
   "metadata": {},
   "outputs": [
    {
     "name": "stdout",
     "output_type": "stream",
     "text": [
      "[25, 16, 99, 13, 29, 32, 66, 83, 86, 33]\n"
     ]
    }
   ],
   "source": [
    "list_to_sort = [random.randint(1,100) for _ in range(10)]\n",
    "\n",
    "print(list_to_sort)"
   ]
  },
  {
   "cell_type": "code",
   "execution_count": 65,
   "metadata": {},
   "outputs": [
    {
     "data": {
      "text/plain": [
       "[13, 16, 25, 29, 32, 33, 66, 83, 86, 99]"
      ]
     },
     "execution_count": 65,
     "metadata": {},
     "output_type": "execute_result"
    }
   ],
   "source": [
    "def insertion_sort(lst):\n",
    "    # loop over the unordered section (start at 1 because the 0-index is \"sorted\")\n",
    "    for i in range(1, len(lst)):\n",
    "        pointer = i\n",
    "        # While we're not at the front of the list and the element to the left is less than our element\n",
    "        while pointer > 0 and lst[pointer] < lst[pointer-1]:\n",
    "            # Swap our element with the element to its left\n",
    "            lst[pointer], lst[pointer-1] = lst[pointer-1], lst[pointer]\n",
    "            # Move our pointer left one element (to match the swap)\n",
    "            pointer -= 1\n",
    "    # After looping through each element in the unordered section, return the list\n",
    "    return lst\n",
    "\n",
    "insertion_sort(list_to_sort)"
   ]
  },
  {
   "attachments": {},
   "cell_type": "markdown",
   "metadata": {},
   "source": [
    "## Merge Sort"
   ]
  },
  {
   "attachments": {},
   "cell_type": "markdown",
   "metadata": {},
   "source": [
    "#### How it Works"
   ]
  },
  {
   "cell_type": "code",
   "execution_count": 79,
   "metadata": {},
   "outputs": [
    {
     "name": "stdout",
     "output_type": "stream",
     "text": [
      "[28, 82, 90, 41, 54, 92, 91, 76]\n"
     ]
    }
   ],
   "source": [
    "list_to_sort = [28, 82, 90, 41, 54, 92, 91, 76]\n",
    "\n",
    "print(list_to_sort)"
   ]
  },
  {
   "cell_type": "code",
   "execution_count": 80,
   "metadata": {},
   "outputs": [
    {
     "name": "stdout",
     "output_type": "stream",
     "text": [
      "Splitting... [28, 82, 90, 41, 54, 92, 91, 76]\n",
      "Splitting... [28, 82, 90, 41]\n",
      "Splitting... [28, 82]\n",
      "Merging... [28]\n",
      "Merging... [82]\n",
      "Merging... [28, 82]\n",
      "Splitting... [90, 41]\n",
      "Merging... [90]\n",
      "Merging... [41]\n",
      "Merging... [41, 90]\n",
      "Merging... [28, 41, 82, 90]\n",
      "Splitting... [54, 92, 91, 76]\n",
      "Splitting... [54, 92]\n",
      "Merging... [54]\n",
      "Merging... [92]\n",
      "Merging... [54, 92]\n",
      "Splitting... [91, 76]\n",
      "Merging... [91]\n",
      "Merging... [76]\n",
      "Merging... [76, 91]\n",
      "Merging... [54, 76, 91, 92]\n",
      "Merging... [28, 41, 54, 76, 82, 90, 91, 92]\n"
     ]
    },
    {
     "data": {
      "text/plain": [
       "[28, 41, 54, 76, 82, 90, 91, 92]"
      ]
     },
     "execution_count": 80,
     "metadata": {},
     "output_type": "execute_result"
    }
   ],
   "source": [
    "def merge_sort(lst):\n",
    "    # if the length of the list is greater than 1\n",
    "    if len(lst) > 1:\n",
    "        # Find the midway point\n",
    "        mid = len(lst) // 2\n",
    "        print('Splitting...', lst)\n",
    "        # Split the list in half\n",
    "        left_half = lst[:mid]\n",
    "        right_half = lst[mid:]\n",
    "        \n",
    "        # Call merge sort function on left half\n",
    "        merge_sort(left_half)\n",
    "        # then we do it to the right half\n",
    "        merge_sort(right_half)\n",
    "        \n",
    "        # index pointers for our lists\n",
    "        l = 0 # pointer for left half list\n",
    "        r = 0 # pointer for right half list\n",
    "        m = 0 # pointer for main list\n",
    "        \n",
    "        # while left pointer and right pointer are pointing at valid indices\n",
    "        while l < len(left_half) and r < len(right_half):\n",
    "            # if the value in the left half list is less than right half\n",
    "            if left_half[l] < right_half[r]:\n",
    "                # add the left half value to the main list\n",
    "                lst[m] = left_half[l]\n",
    "                # move the left pointer to the right once\n",
    "                l += 1\n",
    "            # otherwise, if the right half list value is less than or equal\n",
    "            else:\n",
    "                # add the right half value to the main list\n",
    "                lst[m] = right_half[r]\n",
    "                # move the right pointer to the right once\n",
    "                r += 1\n",
    "            # either way, move the main pointer\n",
    "            m += 1\n",
    "            \n",
    "        while l < len(left_half):\n",
    "            lst[m] = left_half[l]\n",
    "            l += 1\n",
    "            m += 1\n",
    "        \n",
    "        while r < len(right_half):\n",
    "            lst[m] = right_half[r]\n",
    "            r += 1\n",
    "            m += 1\n",
    "    print('Merging...', lst)        \n",
    "    return lst\n",
    "        \n",
    "merge_sort(list_to_sort)"
   ]
  },
  {
   "cell_type": "code",
   "execution_count": 75,
   "metadata": {},
   "outputs": [
    {
     "name": "stdout",
     "output_type": "stream",
     "text": [
      "6\n",
      "[4, 5, 8, 2, 2, 5]\n",
      "[7, 8, 2, 1, 4, 5]\n"
     ]
    }
   ],
   "source": [
    "my_list = [4, 5, 8, 2, 2, 5, 7, 8, 2, 1, 4, 5]\n",
    "\n",
    "mid = len(my_list) // 2\n",
    "print(mid)\n",
    "\n",
    "print(my_list[:mid])\n",
    "print(my_list[mid:])"
   ]
  },
  {
   "cell_type": "code",
   "execution_count": 68,
   "metadata": {},
   "outputs": [
    {
     "data": {
      "text/plain": [
       "50"
      ]
     },
     "execution_count": 68,
     "metadata": {},
     "output_type": "execute_result"
    }
   ],
   "source": [
    "def add_nums(num1, num2):\n",
    "    return num1 + num2\n",
    "\n",
    "\n",
    "def get_perimeter(side1, side2):\n",
    "    result = add_nums(side1, side2)\n",
    "    return result * 2\n",
    "\n",
    "get_perimeter(10, 15)"
   ]
  },
  {
   "cell_type": "code",
   "execution_count": 72,
   "metadata": {},
   "outputs": [
    {
     "data": {
      "text/plain": [
       "120"
      ]
     },
     "execution_count": 72,
     "metadata": {},
     "output_type": "execute_result"
    }
   ],
   "source": [
    "def factorial(num):\n",
    "    if num <= 1:\n",
    "        return 1\n",
    "    else:\n",
    "        return num * factorial(num - 1)\n",
    "    \n",
    "factorial(5)"
   ]
  },
  {
   "attachments": {},
   "cell_type": "markdown",
   "metadata": {},
   "source": [
    "# Binary Search\n",
    "\n",
    "The Binary Search algorithm works by finding the number in the middle of a given array and comparing it to the target. **Given that the array is sorted**\n",
    "\n",
    "* The worst case run time for this algorithm is `O(log(n))`"
   ]
  },
  {
   "cell_type": "code",
   "execution_count": null,
   "metadata": {},
   "outputs": [],
   "source": [
    "# Less == Left\n",
    "# Greater == Right\n",
    "# List of numbers MUST be sorted\n"
   ]
  },
  {
   "attachments": {},
   "cell_type": "markdown",
   "metadata": {},
   "source": [
    "# Exercises"
   ]
  },
  {
   "attachments": {},
   "cell_type": "markdown",
   "metadata": {},
   "source": [
    "### Exercise #1 <br>\n",
    "<p>Write a function that takes a list of integers and returns the median value</p>"
   ]
  },
  {
   "cell_type": "code",
   "execution_count": 4,
   "metadata": {},
   "outputs": [
    {
     "name": "stdout",
     "output_type": "stream",
     "text": [
      "2.5\n"
     ]
    }
   ],
   "source": [
    "import statistics\n",
    "\n",
    "# num_list = [1,2,3,4]\n",
    "def median_of_list(num_list):\n",
    "    return statistics.median(num_list)\n",
    "\n",
    "# result = median_of_list(num_list)\n",
    "# print(result)\n",
    "\n",
    "\n"
   ]
  },
  {
   "attachments": {},
   "cell_type": "markdown",
   "metadata": {},
   "source": [
    "### Exercise #2 <br>\n",
    "<p>Create a function that counts how many distinct words are in the string below, then outputs a dictionary with the words as the key and the value as the amount of times that word appears in the string.</p>\n",
    "Example Output:<code>{'in': 1, 'computing': 1, 'a': 5, ...}</code>"
   ]
  },
  {
   "cell_type": "code",
   "execution_count": 15,
   "metadata": {
    "scrolled": true
   },
   "outputs": [
    {
     "name": "stdout",
     "output_type": "stream",
     "text": [
      "{'In': 1, 'computing,': 1, 'a': 4, 'hash': 4, 'table': 2, 'map': 2, 'is': 1, 'data': 2, 'structure': 2, 'which': 2, 'implements': 1, 'an': 3, 'associative': 1, 'array': 2, 'abstract': 1, 'type,': 1, 'that': 1, 'can': 2, 'keys': 1, 'to': 2, 'values.': 1, 'A': 1, 'uses': 1, 'function': 1, 'compute': 1, 'index': 1, 'into': 1, 'of': 1, 'buckets': 1, 'or': 1, 'slots': 1, 'from': 1, 'the': 1, 'desired': 1, 'value': 1, 'be': 1, 'found': 1}\n"
     ]
    }
   ],
   "source": [
    "a_text = 'In computing, a hash table hash map is a data structure which implements an associative array abstract data type, a structure that can map keys to values. A hash table uses a hash function to compute an index into an array of buckets or slots from which the desired value can be found'\n",
    "\n",
    "\n",
    "def words_counted(a_text):\n",
    "    counts= {}\n",
    "#     words = a_text.split()\n",
    "    \n",
    "#     for word in words:\n",
    "#         if word in counts:\n",
    "#             counts[word] += 1\n",
    "#         else:\n",
    "#             counts[word] = 1\n",
    "#     return counts\n",
    "\n",
    "\n",
    "    for word in a_text.lower().split():\n",
    "        if word in counts:\n",
    "            counts[word] += 1\n",
    "        else:\n",
    "            counts[word] = 1\n",
    "    return counts\n",
    "\n",
    "print(words_counted(a_text))\n"
   ]
  },
  {
   "attachments": {},
   "cell_type": "markdown",
   "metadata": {},
   "source": [
    "## Exercise #3\n",
    "\n",
    "Write a function implementing a Linear Search Algorithm. A linear search is a method for finding an element within a list. It sequentially checks each element of the list until a match is found or the whole list has been searched. If you do not find a match, return -1"
   ]
  },
  {
   "cell_type": "code",
   "execution_count": 16,
   "metadata": {},
   "outputs": [
    {
     "name": "stdout",
     "output_type": "stream",
     "text": [
      "-1\n"
     ]
    }
   ],
   "source": [
    "def lin_search(lst, x): #search lst for x\n",
    "    for i in range(len(lst)): #iterate through lst to find x\n",
    "        if lst[i] == x: #condition to if x is found to return\n",
    "            return i\n",
    "    return -1 #else \n",
    "\n",
    "# lst = [100, 200, 3, 4, 500, 33, 5]\n",
    "# x = 105\n",
    "# print(lin_search(lst, x))"
   ]
  },
  {
   "cell_type": "code",
   "execution_count": null,
   "metadata": {},
   "outputs": [],
   "source": []
  }
 ],
 "metadata": {
  "kernelspec": {
   "display_name": "Python 3 (ipykernel)",
   "language": "python",
   "name": "python3"
  },
  "language_info": {
   "codemirror_mode": {
    "name": "ipython",
    "version": 3
   },
   "file_extension": ".py",
   "mimetype": "text/x-python",
   "name": "python",
   "nbconvert_exporter": "python",
   "pygments_lexer": "ipython3",
   "version": "3.10.9"
  }
 },
 "nbformat": 4,
 "nbformat_minor": 2
}
